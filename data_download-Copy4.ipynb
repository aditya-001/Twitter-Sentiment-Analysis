{
 "cells": [
  {
   "cell_type": "code",
   "execution_count": 1,
   "metadata": {},
   "outputs": [],
   "source": [
    "import pandas as pd\n",
    "import tweepy\n",
    "import re"
   ]
  },
  {
   "cell_type": "code",
   "execution_count": 2,
   "metadata": {},
   "outputs": [
    {
     "data": {
      "text/html": [
       "<div>\n",
       "<style scoped>\n",
       "    .dataframe tbody tr th:only-of-type {\n",
       "        vertical-align: middle;\n",
       "    }\n",
       "\n",
       "    .dataframe tbody tr th {\n",
       "        vertical-align: top;\n",
       "    }\n",
       "\n",
       "    .dataframe thead th {\n",
       "        text-align: right;\n",
       "    }\n",
       "</style>\n",
       "<table border=\"1\" class=\"dataframe\">\n",
       "  <thead>\n",
       "    <tr style=\"text-align: right;\">\n",
       "      <th></th>\n",
       "      <th>tweet_id</th>\n",
       "      <th>date</th>\n",
       "      <th>time</th>\n",
       "    </tr>\n",
       "  </thead>\n",
       "  <tbody>\n",
       "    <tr>\n",
       "      <th>0</th>\n",
       "      <td>1247011563380277248</td>\n",
       "      <td>2020-4-6</td>\n",
       "      <td>4:1:39</td>\n",
       "    </tr>\n",
       "    <tr>\n",
       "      <th>1</th>\n",
       "      <td>1247011563770388480</td>\n",
       "      <td>2020-4-6</td>\n",
       "      <td>4:1:39</td>\n",
       "    </tr>\n",
       "    <tr>\n",
       "      <th>2</th>\n",
       "      <td>1247011564185509888</td>\n",
       "      <td>2020-4-6</td>\n",
       "      <td>4:1:39</td>\n",
       "    </tr>\n",
       "    <tr>\n",
       "      <th>3</th>\n",
       "      <td>1247011564219236352</td>\n",
       "      <td>2020-4-6</td>\n",
       "      <td>4:1:39</td>\n",
       "    </tr>\n",
       "    <tr>\n",
       "      <th>4</th>\n",
       "      <td>1247011564261183493</td>\n",
       "      <td>2020-4-6</td>\n",
       "      <td>4:1:39</td>\n",
       "    </tr>\n",
       "  </tbody>\n",
       "</table>\n",
       "</div>"
      ],
      "text/plain": [
       "              tweet_id      date    time\n",
       "0  1247011563380277248  2020-4-6  4:1:39\n",
       "1  1247011563770388480  2020-4-6  4:1:39\n",
       "2  1247011564185509888  2020-4-6  4:1:39\n",
       "3  1247011564219236352  2020-4-6  4:1:39\n",
       "4  1247011564261183493  2020-4-6  4:1:39"
      ]
     },
     "execution_count": 2,
     "metadata": {},
     "output_type": "execute_result"
    }
   ],
   "source": [
    "df= pd.read_csv(\"/home/aditya1117/Summer/april_tweets/2020-04-06_clean-dataset.tsv\",sep='\\t')\n",
    "df.head()"
   ]
  },
  {
   "cell_type": "code",
   "execution_count": 3,
   "metadata": {},
   "outputs": [
    {
     "data": {
      "text/plain": [
       "1247011563380277248"
      ]
     },
     "execution_count": 3,
     "metadata": {},
     "output_type": "execute_result"
    }
   ],
   "source": [
    "x=df['tweet_id'].tolist()\n",
    "x[0]"
   ]
  },
  {
   "cell_type": "code",
   "execution_count": 4,
   "metadata": {},
   "outputs": [],
   "source": [
    "# credentials from https://apps.twitter.com/\n",
    "consumerKey = \"Y9ZxP12I6I7YueThIQ75QB8hN\"\n",
    "consumerSecret = \"96TeoFc8LowcR994BtZiAj6GFcVJi9FH4Bltkt8kUav22a3iG0\"\n",
    "accessToken = \"1257021136417759234-QzzyYsTfoPwRhyBbsNKM50JCZHIiL9\"\n",
    "accessTokenSecret = \"tiJnb6rDEWPCw5OrJ83OiwaPXDxBRyLP9MARGxK7QpUdQ\"\n",
    "\n",
    "auth = tweepy.OAuthHandler(consumerKey, consumerSecret)\n",
    "auth.set_access_token(accessToken, accessTokenSecret)\n",
    "\n",
    "api = tweepy.API(auth)\n",
    "#API setup complete"
   ]
  },
  {
   "cell_type": "code",
   "execution_count": 5,
   "metadata": {},
   "outputs": [
    {
     "data": {
      "text/html": [
       "<div>\n",
       "<style scoped>\n",
       "    .dataframe tbody tr th:only-of-type {\n",
       "        vertical-align: middle;\n",
       "    }\n",
       "\n",
       "    .dataframe tbody tr th {\n",
       "        vertical-align: top;\n",
       "    }\n",
       "\n",
       "    .dataframe thead th {\n",
       "        text-align: right;\n",
       "    }\n",
       "</style>\n",
       "<table border=\"1\" class=\"dataframe\">\n",
       "  <thead>\n",
       "    <tr style=\"text-align: right;\">\n",
       "      <th></th>\n",
       "      <th>tweet_id</th>\n",
       "      <th>tweet_text</th>\n",
       "    </tr>\n",
       "  </thead>\n",
       "  <tbody>\n",
       "  </tbody>\n",
       "</table>\n",
       "</div>"
      ],
      "text/plain": [
       "Empty DataFrame\n",
       "Columns: [tweet_id, tweet_text]\n",
       "Index: []"
      ]
     },
     "execution_count": 5,
     "metadata": {},
     "output_type": "execute_result"
    }
   ],
   "source": [
    "column_names = [\"tweet_id\", \"tweet_text\"]\n",
    "df_tweets = pd.DataFrame(columns = column_names)\n",
    "df_tweets"
   ]
  },
  {
   "cell_type": "code",
   "execution_count": null,
   "metadata": {},
   "outputs": [],
   "source": [
    "count=0\n",
    "for tid in x:\n",
    "    try:\n",
    "        tweet=api.get_status(tid)\n",
    "        if tweet.lang == 'en':\n",
    "            text=' '.join(re.sub(\"(@[A-Za-z0-9]+)|([^0-9A-Za-z\\t])|(\\w+:\\/\\/\\S+)\",\" \",tweet.text).split())\n",
    "            df2 = {'tweet_id': tid, 'tweet_text': text}\n",
    "            df_tweets = df_tweets.append(df2, ignore_index=True)\n",
    "            count=count+1\n",
    "            print(count,end=\"\\t\")\n",
    "            if(count>1000):\n",
    "                break\n",
    "    except:\n",
    "        pass\n",
    "df_tweets.to_csv(\"/home/aditya1117/Summer/april_tweets_1000/2020-04-06_clean-dataset_1000.tsv\",sep=\"\\t\")\n",
    "print(count)"
   ]
  },
  {
   "cell_type": "code",
   "execution_count": null,
   "metadata": {},
   "outputs": [],
   "source": [
    "count=0\n",
    "for tid in x:\n",
    "    try:\n",
    "        tweet=api.get_status(tid)\n",
    "        count=count+1\n",
    "        text=' '.join(re.sub(\"(@[A-Za-z0-9]+)|([^0-9A-Za-z\\t])|(\\w+:\\/\\/\\S+)\",\" \",tweet.text).split())\n",
    "        print(text)\n",
    "        if(count>100):\n",
    "            break\n",
    "    except:\n",
    "        pass\n",
    "print(count)"
   ]
  },
  {
   "cell_type": "code",
   "execution_count": 6,
   "metadata": {},
   "outputs": [
    {
     "name": "stdout",
     "output_type": "stream",
     "text": [
      "1272681359941787653\n",
      "🦠🇧🇷 😷 #Brasil | #COVID19\n",
      "\n",
      "Multan al ministro de Educación de Brasil por no usar tapabocas\n",
      "\n",
      "https://t.co/PmBUjQbqY9… https://t.co/CAGpTW6yai\n"
     ]
    }
   ],
   "source": [
    "print(x[1])\n",
    "tweet=api.get_status(x[0])\n",
    "print(tweet.text)"
   ]
  },
  {
   "cell_type": "code",
   "execution_count": null,
   "metadata": {},
   "outputs": [],
   "source": []
  }
 ],
 "metadata": {
  "kernelspec": {
   "display_name": "Python 3",
   "language": "python",
   "name": "python3"
  },
  "language_info": {
   "codemirror_mode": {
    "name": "ipython",
    "version": 3
   },
   "file_extension": ".py",
   "mimetype": "text/x-python",
   "name": "python",
   "nbconvert_exporter": "python",
   "pygments_lexer": "ipython3",
   "version": "3.6.9"
  }
 },
 "nbformat": 4,
 "nbformat_minor": 2
}
